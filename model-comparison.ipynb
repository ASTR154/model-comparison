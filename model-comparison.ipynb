{
 "cells": [
  {
   "cell_type": "markdown",
   "metadata": {},
   "source": [
    "# Model Comparison\n",
    "By: Griffin Hosseinzadeh (2025 May 7)"
   ]
  },
  {
   "cell_type": "code",
   "execution_count": 5,
   "metadata": {},
   "outputs": [],
   "source": [
    "import numpy as np\n",
    "import matplotlib.pyplot as plt"
   ]
  },
  {
   "cell_type": "markdown",
   "metadata": {},
   "source": [
    "We'll start by generating some synthetic data from a slightly more complicated model than usual. The true underlying model will be a straight line plus a sinusoid. Imagine, for example, that these data are measurements of the brightness of a variable star over time. It could have short-timescale oscillations in brightness while also increasing in average brightness over the long term. Let's model this as\n",
    "$$ y_3(x) = m x + b + a\\sin(2\\pi x) $$\n",
    "where the three model parameters are the slope $m$, the intercept $b$, and the amplitude of the oscillations $a$.\n",
    "We're going to compare this model with a simpler model without the oscillations:\n",
    "$$ y_2(x) = m x + b $$\n",
    "When we have noisy data, we may not be able to tell the difference between these two models.\n",
    "\n",
    "First, write both these models down as functions. We will want to call them later on."
   ]
  },
  {
   "cell_type": "code",
   "execution_count": 6,
   "metadata": {},
   "outputs": [],
   "source": [
    "def model3(x, m, b, a):\n",
    "    y = (m * x) + b + (a * np.sin(2 * np.pi * x))\n",
    "    return y\n",
    "\n",
    "def model2(x, m, b):\n",
    "    y = m * x + b\n",
    "    return y"
   ]
  },
  {
   "cell_type": "markdown",
   "metadata": {},
   "source": [
    "Generate 100 random points in the range $0<x<1$ and evaulate the true model ($y_3$) at these points given the parameters below. Then add Gaussian noise to each point using the value of $\\sigma$ below. Plot your synthetic data set (with error bars) and visually compare it with your two proposed models."
   ]
  },
  {
   "cell_type": "code",
   "execution_count": 18,
   "metadata": {},
   "outputs": [
    {
     "data": {
      "text/plain": [
       "<matplotlib.legend.Legend at 0x7fbd7932c2b0>"
      ]
     },
     "execution_count": 18,
     "metadata": {},
     "output_type": "execute_result"
    },
    {
     "data": {
      "image/png": "[encoded data removed]",
      "text/plain": [
       "<Figure size 432x288 with 1 Axes>"
      ]
     },
     "metadata": {
      "needs_background": "light"
     },
     "output_type": "display_data"
    }
   ],
   "source": [
    "N = 100       # number of points\n",
    "m_true = 10.  # slope\n",
    "b_true = 50.  # intercept\n",
    "a_true = 1.   # amplitude\n",
    "sigma = 1.    # scatter\n",
    "\n",
    "rng = np.random.default_rng(seed=13579)\n",
    "x = rng.uniform(0, 1, size = N)\n",
    "y_noise_free = model3(x, m_true, b_true, a_true)\n",
    "y = y_noise_free + rng.normal(0, sigma, size = N)\n",
    "dy = np.full(N, sigma)\n",
    "\n",
    "x_model = np.linspace(0, 1, 1000)\n",
    "y_model2 = model2(x_model, m_true, b_true)\n",
    "y_model3 = model3(x_model, m_true, b_true, a_true)\n",
    "\n",
    "plt.errorbar(x, y, yerr = dy, fmt = 'o')\n",
    "plt.plot(x_model, y_model2, label = 'Model 2')\n",
    "plt.plot(x_model, y_model3, label = 'Model 3')\n",
    "plt.legend()"
   ]
  },
  {
   "cell_type": "markdown",
   "metadata": {},
   "source": [
    "From now on, we are pretending we don't know which model is true, or what the true values of the parameters are. We have a data set, and we want to figure out which model is a a better fit, and whether it is significantly better or not, given the different numbers of parameters.\n",
    "\n",
    "For each model, write down functions for the logarithm of the prior, likelihood, and posterior. **Make sure your prior is properly normalized.** Use these functions to calculate the Bayesian evidence for each model. This is very similar to what we did in the Bayesian statistics exercise, with one additional step: numerical integration (`np.trapezoid`) of the entire posterior grid."
   ]
  },
  {
   "cell_type": "code",
   "execution_count": 8,
   "metadata": {},
   "outputs": [
    {
     "name": "stderr",
     "output_type": "stream",
     "text": [
      "/var/folders/g7/tfxp633s42vgtl5_b9qmp7w00000gn/T/ipykernel_4021/1923752328.py:17: RuntimeWarning: divide by zero encountered in log\n",
      "  ln_prior = np.log(prob_total)\n"
     ]
    },
    {
     "name": "stdout",
     "output_type": "stream",
     "text": [
      "1.1139894284652674e-28\n"
     ]
    }
   ],
   "source": [
    "m_min = 0.5\n",
    "m_max = 99.5\n",
    "b_min = 0.5\n",
    "b_max = 99.5\n",
    "\n",
    "def log_prior2(theta):\n",
    "    m_mod, b_mod = theta\n",
    "    if m_min < m_mod < m_max:\n",
    "        prob_m = 1. / (m_mod * np.log(m_max / m_min))\n",
    "    else:\n",
    "        prob_m = 0.\n",
    "    if b_min < b_mod < b_max:\n",
    "        prob_b = 1. / (b_max - b_min)\n",
    "    else:\n",
    "        prob_b = 0.\n",
    "    prob_total = prob_m * prob_b\n",
    "    ln_prior = np.log(prob_total)\n",
    "    return ln_prior\n",
    "\n",
    "def log_likelihood2(theta, x, y, dy):\n",
    "    m_mod, b_mod = theta\n",
    "    y_model = m_mod * x + b_mod\n",
    "    chi2 = (y - y_model) ** 2. / dy ** 2.\n",
    "    ln_like = -0.5 * np.sum(chi2)\n",
    "    return ln_like\n",
    "\n",
    "def log_posterior2(theta, x, y, dy):\n",
    "    ln_post = log_prior2(theta) + log_likelihood2(theta, x, y, dy)\n",
    "    return ln_post\n",
    "\n",
    "m_range2 =  np.linspace(m_min, m_max, 200)\n",
    "b_range2 = np.linspace(b_min, b_max, 200)\n",
    "\n",
    "\n",
    "m_grid2, b_grid2 = np.meshgrid(m_range2, b_range2, indexing='ij')\n",
    "\n",
    "posterior_grid2 =  posterior_grid2 = np.zeros_like(m_grid2)\n",
    "\n",
    "for i in range(len(m_range2)):\n",
    "    for j in range(len(b_range2)):\n",
    "        theta = (m_range2[i], b_range2[j])\n",
    "        posterior_grid2[i, j] = np.exp(log_posterior2(theta, x, y, dy))\n",
    "\n",
    "evidence2 =  np.trapz(np.trapz(posterior_grid2, \n",
    "                                       b_range2, axis=1), \n",
    "                          m_range2, axis=0)\n",
    "print(evidence2)"
   ]
  },
  {
   "cell_type": "code",
   "execution_count": 9,
   "metadata": {},
   "outputs": [
    {
     "name": "stdout",
     "output_type": "stream",
     "text": [
      "1.3137782847121085e-27\n"
     ]
    }
   ],
   "source": [
    "a_min = 0.1\n",
    "a_max = 10.\n",
    "\n",
    "def log_prior3(theta):\n",
    "     \n",
    "    m_mod, b_mod, a_mod = theta\n",
    "    if m_min < m_mod < m_max:\n",
    "        prob_m = 1. / (m_mod * np.log(m_max / m_min))\n",
    "    else:\n",
    "        prob_m = 0.\n",
    "    if b_min < b_mod < b_max:\n",
    "        prob_b = 1. / (b_max - b_min)\n",
    "    else:\n",
    "        prob_b = 0.\n",
    "    if a_min < a_mod < a_max:\n",
    "        prob_a = 1. / (a_max - a_min)\n",
    "    else:\n",
    "        prob_a = 0.\n",
    "\n",
    "    prob_total = prob_m * prob_b * prob_a\n",
    "    if prob_total == 0.:\n",
    "        return -np.inf\n",
    "    else:\n",
    "        ln_prior = np.log(prob_total)\n",
    "        return ln_prior\n",
    "\n",
    "def log_likelihood3(theta, x, y, dy):    \n",
    "    m_mod, b_mod, a_mod = theta\n",
    "    y_model = m_mod * x + b_mod + a_mod * np.sin(2 * np.pi * x)\n",
    "    chi2 = (y - y_model) ** 2. / dy ** 2.\n",
    "    return -0.5 * np.sum(chi2)\n",
    "\n",
    "\n",
    "def log_posterior3(theta, x, y, dy):\n",
    "    ln_post = log_prior3(theta) + log_likelihood3(theta, x, y, dy)\n",
    "    return ln_post\n",
    "\n",
    "m_range3 =  np.linspace(m_min, m_max, 100)\n",
    "b_range3 =  np.linspace(b_min, b_max, 100)\n",
    "a_range3 = np.linspace(a_min, a_max, 100)\n",
    "\n",
    "posterior_grid3 = np.zeros((len(m_range3), len(b_range3), len(a_range3)))\n",
    "\n",
    "for i, m_val in enumerate(m_range3):\n",
    "    for j, b_val in enumerate(b_range3):\n",
    "        for k, a_val in enumerate(a_range3):\n",
    "            theta3 = (m_val, b_val, a_val)\n",
    "            posterior_grid3[i, j, k] = np.exp(log_posterior3(theta3, x, y, dy))\n",
    "\n",
    "evidence3 =  np.trapz(np.trapz(np.trapz(posterior_grid3, \n",
    "                                        a_range3, axis=2), \n",
    "                               b_range3, axis=1), \n",
    "                      m_range3, axis=0)\n",
    "print(evidence3)"
   ]
  },
  {
   "cell_type": "markdown",
   "metadata": {},
   "source": [
    "Calculate the odds ratio for the 3-parameter model compared to the 2-parameter model. What does this number tell you? Does it agree with your intuition from the plot you made above?"
   ]
  },
  {
   "cell_type": "code",
   "execution_count": 11,
   "metadata": {},
   "outputs": [
    {
     "name": "stdout",
     "output_type": "stream",
     "text": [
      "Bayes factor (Model 3 against 2): 11.793453789970775\n"
     ]
    }
   ],
   "source": [
    "bayefact = evidence3 / evidence2\n",
    "print(\"Bayes factor (Model 3 against 2):\", bayefact)"
   ]
  },
  {
   "cell_type": "markdown",
   "metadata": {},
   "source": [
    "The Bayes factor is in favor of model 3, which is correct as the data has a sinusoidal shape to it."
   ]
  },
  {
   "cell_type": "markdown",
   "metadata": {},
   "source": [
    "Now calculate the Akaike and Bayesian information criteria (AIC & BIC). For the sake of time, do not worry about determining the actual maximum-likelihood parameter values. Just use the true parameter values we used to synthesize the data at the beginning of this notebook. (Presumably those should be close to the maximum-likelihood values.) What do the AIC and BIC tell you? Do they agree with the odds ratio and/or your intuition?"
   ]
  },
  {
   "cell_type": "code",
   "execution_count": 12,
   "metadata": {},
   "outputs": [
    {
     "name": "stdout",
     "output_type": "stream",
     "text": [
      "AIC model 2: 154.6541887882873 AIC model 3: 106.49753650860667 Change in AIC: 48.15665227968064\n",
      "BIC model 2: 169.0748695322397 BIC model 3: 128.12855762453523 Change in BIC: 40.946311907704455\n"
     ]
    }
   ],
   "source": [
    "N = 100\n",
    "k2 = 2\n",
    "k3 = 3\n",
    "\n",
    "theta2_true = (m_true, b_true)\n",
    "theta3_true = (m_true, b_true, a_true)\n",
    "Log_Lik2 = log_likelihood2(theta2_true, x, y, dy)\n",
    "Log_Lik3 = log_likelihood3(theta3_true, x, y, dy)\n",
    "\n",
    "aic2 =  -2 * Log_Lik2 + 2 * k2\n",
    "aic3 =  -2 * Log_Lik3 + 2 * k3\n",
    "print(\"AIC model 2:\", aic2, \"AIC model 3:\", aic3, \"Change in AIC:\", aic2 - aic3)\n",
    "\n",
    "bic2 =  -2 * Log_Lik2 + 2 * k2 * np.log(N)\n",
    "bic3 =  -2 * Log_Lik3 + 2 * k3 * np.log(N)\n",
    "print(\"BIC model 2:\", bic2, \"BIC model 3:\", bic3, \"Change in BIC:\", bic2 - bic3)"
   ]
  },
  {
   "cell_type": "markdown",
   "metadata": {},
   "source": [
    "The change in AIC is higher than the change in BIC supporting the odds ratio. The additional sin term in model 3 fits the data more appropriately. "
   ]
  },
  {
   "cell_type": "markdown",
   "metadata": {},
   "source": [
    "Now repeat this entire notebook using a different data set with increased noise. Either duplicate this entire notebook (File > Duplicate), in which case you need to add that new notebook to the GitHub repository, or copy all the code cells above and paste them below. *(Yes, you could just change the number and rerun the notebook, but we want to see a record of both.)*\n",
    "\n",
    "This time, increase $\\sigma$ to 5. Comment on your results, specifically whether or not you can distinguish between the two models, and whether you think that is reasonable or not."
   ]
  },
  {
   "cell_type": "code",
   "execution_count": 19,
   "metadata": {},
   "outputs": [
    {
     "data": {
      "text/plain": [
       "<matplotlib.legend.Legend at 0x7fbd792894f0>"
      ]
     },
     "execution_count": 19,
     "metadata": {},
     "output_type": "execute_result"
    },
    {
     "data": {
      "image/png": "[encoded data removed]",
      "text/plain": [
       "<Figure size 432x288 with 1 Axes>"
      ]
     },
     "metadata": {
      "needs_background": "light"
     },
     "output_type": "display_data"
    }
   ],
   "source": [
    "N = 100       # number of points\n",
    "m_true = 10.  # slope\n",
    "b_true = 50.  # intercept\n",
    "a_true = 1.   # amplitude\n",
    "sigma = 5.    # scatter\n",
    "\n",
    "rng = np.random.default_rng(seed=13579)\n",
    "x = rng.uniform(0, 1, size = N)\n",
    "y_noise_free = model3(x, m_true, b_true, a_true)\n",
    "y = y_noise_free + rng.normal(0, sigma, size = N)\n",
    "dy = np.full(N, sigma)\n",
    "\n",
    "x_model = np.linspace(0, 1, 1000)\n",
    "y_model2 = model2(x_model, m_true, b_true)\n",
    "y_model3 = model3(x_model, m_true, b_true, a_true)\n",
    "\n",
    "plt.errorbar(x, y, yerr = dy, fmt = 'o')\n",
    "plt.plot(x_model, y_model2, label = 'Model 2')\n",
    "plt.plot(x_model, y_model3, label = 'Model 3')\n",
    "plt.legend()"
   ]
  },
  {
   "cell_type": "code",
   "execution_count": 14,
   "metadata": {},
   "outputs": [
    {
     "name": "stderr",
     "output_type": "stream",
     "text": [
      "/var/folders/g7/tfxp633s42vgtl5_b9qmp7w00000gn/T/ipykernel_4021/1923752328.py:17: RuntimeWarning: divide by zero encountered in log\n",
      "  ln_prior = np.log(prob_total)\n"
     ]
    },
    {
     "name": "stdout",
     "output_type": "stream",
     "text": [
      "1.3485701658756973e-24\n"
     ]
    }
   ],
   "source": [
    "m_min = 0.5\n",
    "m_max = 99.5\n",
    "b_min = 0.5\n",
    "b_max = 99.5\n",
    "\n",
    "def log_prior2(theta):\n",
    "    m_mod, b_mod = theta\n",
    "    if m_min < m_mod < m_max:\n",
    "        prob_m = 1. / (m_mod * np.log(m_max / m_min))\n",
    "    else:\n",
    "        prob_m = 0.\n",
    "    if b_min < b_mod < b_max:\n",
    "        prob_b = 1. / (b_max - b_min)\n",
    "    else:\n",
    "        prob_b = 0.\n",
    "    prob_total = prob_m * prob_b\n",
    "    ln_prior = np.log(prob_total)\n",
    "    return ln_prior\n",
    "\n",
    "def log_likelihood2(theta, x, y, dy):\n",
    "    m_mod, b_mod = theta\n",
    "    y_model = m_mod * x + b_mod\n",
    "    chi2 = (y - y_model) ** 2. / dy ** 2.\n",
    "    ln_like = -0.5 * np.sum(chi2)\n",
    "    return ln_like\n",
    "\n",
    "def log_posterior2(theta, x, y, dy):\n",
    "    ln_post = log_prior2(theta) + log_likelihood2(theta, x, y, dy)\n",
    "    return ln_post\n",
    "\n",
    "m_range2 =  np.linspace(m_min, m_max, 200)\n",
    "b_range2 = np.linspace(b_min, b_max, 200)\n",
    "\n",
    "\n",
    "m_grid2, b_grid2 = np.meshgrid(m_range2, b_range2, indexing='ij')\n",
    "\n",
    "posterior_grid2 =  posterior_grid2 = np.zeros_like(m_grid2)\n",
    "\n",
    "for i in range(len(m_range2)):\n",
    "    for j in range(len(b_range2)):\n",
    "        theta = (m_range2[i], b_range2[j])\n",
    "        posterior_grid2[i, j] = np.exp(log_posterior2(theta, x, y, dy))\n",
    "\n",
    "evidence2 =  np.trapz(np.trapz(posterior_grid2, \n",
    "                                       b_range2, axis=1), \n",
    "                          m_range2, axis=0)\n",
    "print(evidence2)"
   ]
  },
  {
   "cell_type": "code",
   "execution_count": 15,
   "metadata": {},
   "outputs": [
    {
     "name": "stdout",
     "output_type": "stream",
     "text": [
      "1.193355007892552e-25\n"
     ]
    }
   ],
   "source": [
    "a_min = 0.1\n",
    "a_max = 10.\n",
    "\n",
    "def log_prior3(theta):\n",
    "     \n",
    "    m_mod, b_mod, a_mod = theta\n",
    "    if m_min < m_mod < m_max:\n",
    "        prob_m = 1. / (m_mod * np.log(m_max / m_min))\n",
    "    else:\n",
    "        prob_m = 0.\n",
    "    if b_min < b_mod < b_max:\n",
    "        prob_b = 1. / (b_max - b_min)\n",
    "    else:\n",
    "        prob_b = 0.\n",
    "    if a_min < a_mod < a_max:\n",
    "        prob_a = 1. / (a_max - a_min)\n",
    "    else:\n",
    "        prob_a = 0.\n",
    "\n",
    "    prob_total = prob_m * prob_b * prob_a\n",
    "    if prob_total == 0.:\n",
    "        return -np.inf\n",
    "    else:\n",
    "        ln_prior = np.log(prob_total)\n",
    "        return ln_prior\n",
    "\n",
    "def log_likelihood3(theta, x, y, dy):    \n",
    "    m_mod, b_mod, a_mod = theta\n",
    "    y_model = m_mod * x + b_mod + a_mod * np.sin(2 * np.pi * x)\n",
    "    chi2 = (y - y_model) ** 2. / dy ** 2.\n",
    "    return -0.5 * np.sum(chi2)\n",
    "\n",
    "\n",
    "def log_posterior3(theta, x, y, dy):\n",
    "    ln_post = log_prior3(theta) + log_likelihood3(theta, x, y, dy)\n",
    "    return ln_post\n",
    "\n",
    "m_range3 =  np.linspace(m_min, m_max, 100)\n",
    "b_range3 =  np.linspace(b_min, b_max, 100)\n",
    "a_range3 = np.linspace(a_min, a_max, 100)\n",
    "\n",
    "posterior_grid3 = np.zeros((len(m_range3), len(b_range3), len(a_range3)))\n",
    "\n",
    "for i, m_val in enumerate(m_range3):\n",
    "    for j, b_val in enumerate(b_range3):\n",
    "        for k, a_val in enumerate(a_range3):\n",
    "            theta3 = (m_val, b_val, a_val)\n",
    "            posterior_grid3[i, j, k] = np.exp(log_posterior3(theta3, x, y, dy))\n",
    "\n",
    "evidence3 =  np.trapz(np.trapz(np.trapz(posterior_grid3, \n",
    "                                        a_range3, axis=2), \n",
    "                               b_range3, axis=1), \n",
    "                      m_range3, axis=0)\n",
    "print(evidence3)"
   ]
  },
  {
   "cell_type": "code",
   "execution_count": 16,
   "metadata": {},
   "outputs": [
    {
     "name": "stdout",
     "output_type": "stream",
     "text": [
      "Bayes factor (Model 3 against 2): 0.08849039064405255\n"
     ]
    }
   ],
   "source": [
    "bayefact = evidence3 / evidence2\n",
    "print(\"Bayes factor (Model 3 against 2):\", bayefact)"
   ]
  },
  {
   "cell_type": "code",
   "execution_count": 17,
   "metadata": {},
   "outputs": [
    {
     "name": "stdout",
     "output_type": "stream",
     "text": [
      "AIC model 2: 107.13369605539823 AIC model 3: 106.49753650860674 Change in AIC: 0.6361595467914896\n",
      "BIC model 2: 121.55437679935059 BIC model 3: 128.1285576245353 Change in BIC: -6.574180825184698\n"
     ]
    }
   ],
   "source": [
    "N = 100\n",
    "k2 = 2\n",
    "k3 = 3\n",
    "\n",
    "theta2_true = (m_true, b_true)\n",
    "theta3_true = (m_true, b_true, a_true)\n",
    "Log_Lik2 = log_likelihood2(theta2_true, x, y, dy)\n",
    "Log_Lik3 = log_likelihood3(theta3_true, x, y, dy)\n",
    "\n",
    "aic2 =  -2 * Log_Lik2 + 2 * k2\n",
    "aic3 =  -2 * Log_Lik3 + 2 * k3\n",
    "print(\"AIC model 2:\", aic2, \"AIC model 3:\", aic3, \"Change in AIC:\", aic2 - aic3)\n",
    "\n",
    "bic2 =  -2 * Log_Lik2 + 2 * k2 * np.log(N)\n",
    "bic3 =  -2 * Log_Lik3 + 2 * k3 * np.log(N)\n",
    "print(\"BIC model 2:\", bic2, \"BIC model 3:\", bic3, \"Change in BIC:\", bic2 - bic3)"
   ]
  },
  {
   "cell_type": "markdown",
   "metadata": {},
   "source": [
    "The ratio is much lower, and the changes in AIC and BIC are minor, implying that with such a high level of noise, neither model is prefered. "
   ]
  },
  {
   "cell_type": "code",
   "execution_count": null,
   "metadata": {},
   "outputs": [],
   "source": []
  }
 ],
 "metadata": {
  "kernelspec": {
   "display_name": "Python 3 (ipykernel)",
   "language": "python",
   "name": "python3"
  },
  "language_info": {
   "codemirror_mode": {
    "name": "ipython",
    "version": 3
   },
   "file_extension": ".py",
   "mimetype": "text/x-python",
   "name": "python",
   "nbconvert_exporter": "python",
   "pygments_lexer": "ipython3",
   "version": "3.9.12"
  }
 },
 "nbformat": 4,
 "nbformat_minor": 4
}
